{
 "cells": [
  {
   "cell_type": "code",
   "execution_count": null,
   "metadata": {},
   "outputs": [],
   "source": [
    "# Jupyter Notebook to illustrate the use of only basic Python functionality to solve Simple Linear Regression problem\n",
    "# We will primarily use lists and we will NOT import any Python packages in this unit !!\n",
    "\n",
    "# The steps:\n",
    "#   Define a function to create two lists y, x \n",
    "#       by reading their values from a .csv file : 'linear-data-set-for-regression.csv'\n",
    "#   Define functions to calculate : x_squared_bar, xy_bar, xbar, ybar \n",
    "#   and use these functions to calculate regression coefficients a and b \n",
    "#   calculate the predicted values ycap = a * x + b\n",
    "#   calculate the residuals e = y - ycap\n",
    "#   Calculate SSE and MSE\n",
    "\n",
    "# To emphasize once again, we will not import any of the external Python libraries or packages in this unit"
   ]
  },
  {
   "cell_type": "code",
   "execution_count": null,
   "metadata": {},
   "outputs": [],
   "source": [
    "# We will begin by defining a function to read the y,x data from a text file\n",
    "#   Input: \n",
    "#       filename: name of the file\n",
    "#   Output:\n",
    "#       yi, xi: two lists\n",
    "\n",
    "def read_xy_from_file(filename):\n",
    "    yi, xi = [], [] # Create two empty lists, to be filled in later in the function\n",
    "\n",
    "    with open(\"linear-data-set-for-regression.csv\", \"r\") as file:\n",
    "        a_line = file.readline() # read the first line, and ignore it. It is the the header - y, x\n",
    "        a_line = file.readline() # read the second line and then enter a 'while' loop\n",
    "\n",
    "        while a_line:           # So long as a line has been successfully read ...\n",
    "            yt, xt = a_line.strip().split(\",\")  # strip the line of leading and trailing spaces, if any, and split on the comma\n",
    "            yi.append(float(yt))                # convert the string to a float and add it to the y list\n",
    "            xi.append(float(xt))                # convert the string to a float and add it to the x list\n",
    "            a_line = file.readline()            # read the next line, and re-enter the loop at the top\n",
    "\n",
    "    # When control comes here, it means that 'a_line' is empty, there was nothing more to read from the file\n",
    "    return yi, xi"
   ]
  },
  {
   "cell_type": "code",
   "execution_count": null,
   "metadata": {},
   "outputs": [],
   "source": [
    "# Use the function defined above to read the data from the file\n",
    "# Note: Ensure that the data file is in the same directory as this Notebook\n",
    "y, x = read_xy_from_file(\"linear-data-set-for-regression.csv\")\n",
    "print(f\"Successfully read {len(y)} records from the file\")"
   ]
  },
  {
   "attachments": {
    "image.png": {
     "image/png": "[encoded data removed]"
    }
   },
   "cell_type": "markdown",
   "metadata": {},
   "source": [
    "Now define the functions required to calculate the regression coefficients a and b\n",
    "![image.png](attachment:image.png)"
   ]
  },
  {
   "cell_type": "code",
   "execution_count": null,
   "metadata": {},
   "outputs": [],
   "source": [
    "def xybar(yi, xi):\n",
    "    count = 0\n",
    "    prod_xy = 0\n",
    "    for i in range(len(yi)):\n",
    "        prod_xy += yi[i] * xi[i]\n",
    "        count += 1\n",
    "    \n",
    "    return prod_xy / count\n",
    "    \n",
    "def avg(lst):   # This function calculates the average of a list. Will be used for xbar and ybar\n",
    "    total = sum(lst)\n",
    "    count = len(lst)\n",
    "\n",
    "    if count == 0:\n",
    "        return 0\n",
    "\n",
    "    mean = total / count\n",
    "    return mean\n",
    "\n",
    "def avg_of_square(lst):\n",
    "    if len(lst) == 0:\n",
    "        return 0\n",
    "\n",
    "    square_sum = sum(x ** 2 for x in lst)\n",
    "    count = len(lst)\n",
    "    average = square_sum / count\n",
    "\n",
    "    return average\n"
   ]
  },
  {
   "cell_type": "code",
   "execution_count": null,
   "metadata": {},
   "outputs": [],
   "source": [
    "a = (xybar(y, x) - avg(x) * avg(y)) / (avg_of_square(x) - avg(x) ** 2)\n",
    "b = (avg(y) * avg_of_square(x) - avg(x) * xybar(y, x)) / (avg_of_square(x) - avg(x) ** 2)\n",
    "print(f\"Coefficients: a = {a}, b = {b}\")"
   ]
  },
  {
   "cell_type": "code",
   "execution_count": null,
   "metadata": {},
   "outputs": [],
   "source": [
    "# Function to calculate the predicted values ycap = a * x + b\n",
    "def calc_ycap(x, a, b):\n",
    "    y_cap = [a * xi + b for xi in x]\n",
    "    return y_cap"
   ]
  },
  {
   "cell_type": "code",
   "execution_count": null,
   "metadata": {},
   "outputs": [],
   "source": [
    "# Use the function defined above to calculate the predicted values ycap\n",
    "# ... and also the prediction errors\n",
    "\n",
    "ycap = calc_ycap(x, a, b)    # Predicted values, based on the regression line\n",
    "e = [y[i] - ycap[i] for i in range(len(y))] # Prediction errors (note the use of the 'range' function)"
   ]
  },
  {
   "cell_type": "code",
   "execution_count": null,
   "metadata": {},
   "outputs": [],
   "source": [
    "# Print out a few values of both, for comparison with the values calculated using excel\n",
    "print(f\"Predicted y values: {ycap[0:5]} ...\")\n",
    "print(f\"Prediction errors: {e[0:5]} ...\")"
   ]
  },
  {
   "cell_type": "code",
   "execution_count": null,
   "metadata": {},
   "outputs": [],
   "source": [
    "# Calculate SSE\n",
    "SSE = sum([e[i] ** 2 for i in range(len(e))])\n",
    "MSE = SSE / len(e)                  # MSE = SSE / N ... (not the same as the F-test MSE calculation, where df is used)\n",
    "print(f\"SSE: {SSE}, MSE: {MSE}\")"
   ]
  },
  {
   "cell_type": "code",
   "execution_count": null,
   "metadata": {},
   "outputs": [],
   "source": [
    "# That's it !!\n",
    "# Compare all the above values with the values calculated using excel\n",
    "# In subsequent units, we will use Python packages to get all this done in fewer lines of code"
   ]
  }
 ],
 "metadata": {
  "kernelspec": {
   "display_name": "py11",
   "language": "python",
   "name": "python3"
  },
  "language_info": {
   "codemirror_mode": {
    "name": "ipython",
    "version": 3
   },
   "file_extension": ".py",
   "mimetype": "text/x-python",
   "name": "python",
   "nbconvert_exporter": "python",
   "pygments_lexer": "ipython3",
   "version": "3.11.4"
  },
  "orig_nbformat": 4
 },
 "nbformat": 4,
 "nbformat_minor": 2
}
