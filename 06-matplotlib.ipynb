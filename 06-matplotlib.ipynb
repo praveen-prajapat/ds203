{
  "cells": [
    {
      "cell_type": "markdown",
      "metadata": {
        "id": "FgspdrsBNNRT"
      },
      "source": [
        "# **matplotlib**\n",
        "\n",
        "(Notebook author: Sona Elza Simon)\n",
        "\n",
        "Matplotlib (https://matplotlib.org) is a comprehensive library for creating static, animated, and interactive visualizations in Python.\n"
      ]
    },
    {
      "cell_type": "markdown",
      "metadata": {
        "id": "2-JJ2n3Q2W9q"
      },
      "source": [
        "## Installation of matplotlib"
      ]
    },
    {
      "cell_type": "code",
      "execution_count": null,
      "metadata": {
        "id": "T_HdeQKx3ESA"
      },
      "outputs": [],
      "source": [
        "# You can use the Anaconda Navigator to install matplotlib\n",
        "# You can also install matplotlib using pip and conda\n",
        "\n",
        "# Using pip on terminal:\n",
        "# pip install matplotlib\n",
        "\n",
        "# Using conda:\n",
        "# conda install -c conda-forge matplotlib"
      ]
    },
    {
      "cell_type": "code",
      "execution_count": null,
      "metadata": {
        "id": "rh6Q1lpX5Wma"
      },
      "outputs": [],
      "source": [
        "# Usage starts with importing the library into your Python program\n",
        "import matplotlib.pyplot\n",
        "\n",
        "# Normally we import the library and give it another name, an alias\n",
        "# Syntax: import [module] as [another_name]\n",
        "# So, the following is the most accepted way to import and use the library\n",
        "import matplotlib.pyplot as plt"
      ]
    },
    {
      "cell_type": "markdown",
      "metadata": {
        "id": "9R6KcNj64oJn"
      },
      "source": [
        "## Basic Line Plots"
      ]
    },
    {
      "cell_type": "code",
      "execution_count": null,
      "metadata": {
        "colab": {
          "base_uri": "https://localhost:8080/",
          "height": 690
        },
        "id": "NBzw6Xae36Tm",
        "outputId": "acf0d9f7-71cd-43df-b834-035b2fdaf5de"
      },
      "outputs": [],
      "source": [
        "# Let's get started with a simple plot.\n",
        "# Here, we will learn how to plot a sine curve.\n",
        "\n",
        "# Creating sample data\n",
        "\n",
        "# Lets take x values in the range [0,2*pi] and 200 samples from this interval.\n",
        "# Here, we use numpy.linspace() function. It will returns number spaces evenly w.r.t interval.\n",
        "x = np.linspace(0, 2 * np.pi, 30)\n",
        "print(\"\\n x values:\",x)\n",
        "\n",
        "# Define the y value for the plot (sine curve)\n",
        "# numpy.sin(angle) accepts an array_like input in radians and returns the sine of each element in the input array.\n",
        "y = np.sin(x)\n",
        "print(\"\\n y values:\",y)\n",
        "\n",
        "\n",
        "# Creating the plot\n",
        "plt.plot(x, y) # plots y versus x as a line graph\n",
        "plt.show() # shows the plot"
      ]
    },
    {
      "cell_type": "code",
      "execution_count": null,
      "metadata": {
        "id": "NRr72e1V2S3R"
      },
      "outputs": [],
      "source": [
        "# Q: What will be the output of plt.plot([3, 4])?"
      ]
    },
    {
      "cell_type": "code",
      "execution_count": null,
      "metadata": {
        "colab": {
          "base_uri": "https://localhost:8080/",
          "height": 1000
        },
        "id": "6Y8YiB2G_NIV",
        "outputId": "0fb80eb2-331b-4b08-fc4f-8e1dd3a33946"
      },
      "outputs": [],
      "source": [
        "# Let's modify some default plot settings\n",
        "\n",
        "# plot x and y using blue circle markers. \n",
        "plt.plot(x, y, 'bo')  \n",
        "plt.show()\n",
        "\n",
        "# More options can be found at https://matplotlib.org/api/markers_api.html\n"
      ]
    },
    {
      "cell_type": "code",
      "execution_count": null,
      "metadata": {},
      "outputs": [],
      "source": [
        "# Plotting two line on the same plot\n",
        "plt.plot(x, y, color='green', marker='o', linestyle='dashed',linewidth=2, markersize=12) # Uses marker='o' i.e, circle markers and linestyle='dashed'changes the line style is changed from default line to dashed line.\n",
        "plt.plot(y, color='red', marker='+',linewidth=3, markersize=17) # Plots y using x as index array 0..N-1, where N is the number of samples. Uses marker='+' i.e, plus sign markers.\n",
        "plt.show()\n",
        "\n",
        "# Adding title, axis labels, legend, gridlines.\n",
        "plt.plot(x, y, color='#1f77b4', marker='s', linestyle='--',linewidth=2, markersize=7) # '#1f77b4' represents the hexadecimal color code of the color.\n",
        "plt.plot(x, y/2, color='#8c564b', marker='*', linestyle=':',linewidth=2, markersize=8) # Modified the y value by dividing by 2 to get a different plot.\n",
        "plt.legend(['sin(x)', 'sin(x)/2']) # Adding legend for the two line plots.\n",
        "plt.title(\"Sine Curve\") # Title of the plot\n",
        "plt.xlabel(\"x\") # x-axis label\n",
        "plt.ylabel(\"y\") # y-axis label\n",
        "plt.grid() # Q: How to customize gridlines ?\n",
        "plt.show()\n",
        "\n",
        "# Try out different customizations. Refer to https://matplotlib.org/stable/api/pyplot_summary.html"
      ]
    },
    {
      "cell_type": "markdown",
      "metadata": {
        "id": "3Q1aCNFpM0Ht"
      },
      "source": [
        "## Subplots and Layouts\n",
        "\n",
        "Subplots are used in Matplotlib to create multiple plots within a single figure, \n",
        "allowing you to display and compare multiple datasets or visualizations side by side. \n",
        "This is especially useful when you want to analyze or showcase the relationships between \n",
        "different datasets or examine how different variables affect each other. Using subplots, \n",
        "you can create a grid of individual plots, each with its own set of axes, within a single figure."
      ]
    },
    {
      "cell_type": "code",
      "execution_count": null,
      "metadata": {
        "colab": {
          "base_uri": "https://localhost:8080/",
          "height": 623
        },
        "id": "f6UvP_2X7Bty",
        "outputId": "b8a316c7-cf5a-4135-d25a-dfb9abb53f41"
      },
      "outputs": [],
      "source": [
        "# First of all, let's see how to create Matplotlib figures with different sizes specified in inches, centimeters, or pixels, \n",
        "# and how to display a text label in the center of the figure.\n",
        "\n",
        "# Figure size in inches (default)\n",
        "plt.subplots(figsize=(6, 2))\n",
        "text_kwargs = dict(ha='center', va='center', fontsize=28, color='C1')\n",
        "plt.text(0.5, 0.5, '6 inches x 2 inches', **text_kwargs)\n",
        "plt.show()\n",
        "\n",
        "# Figure size in centimeters\n",
        "cm = 1/2.54  # centimeters in inches\n",
        "plt.subplots(figsize=(15*cm, 5*cm))\n",
        "text_kwargs = dict(ha='center', va='center', fontsize=28, color='C1')\n",
        "plt.text(0.5, 0.5, '15cm x 5cm', **text_kwargs)\n",
        "plt.show()\n",
        "\n",
        "# Figure size in pixel\n",
        "px = 1/plt.rcParams['figure.dpi']  # pixel in inches\n",
        "plt.subplots(figsize=(600*px, 200*px))\n",
        "plt.text(0.5, 0.5, '600px x 200px', **text_kwargs)\n",
        "plt.show()"
      ]
    },
    {
      "cell_type": "code",
      "execution_count": null,
      "metadata": {
        "colab": {
          "base_uri": "https://localhost:8080/",
          "height": 452
        },
        "id": "cqNjcUqi1HQG",
        "outputId": "1a54ae93-17a4-4148-cc3a-c354e3ca5b57"
      },
      "outputs": [],
      "source": [
        "# Now start composing by creating the sub plots\n",
        "fig, ax = plt.subplots()\n",
        "ax.plot(x, y)\n",
        "ax.set_title('A single plot')\n",
        "plt.show()\n",
        "\n",
        "# Q: What's the difference between figure and axes ?"
      ]
    },
    {
      "cell_type": "code",
      "execution_count": null,
      "metadata": {
        "colab": {
          "base_uri": "https://localhost:8080/",
          "height": 478
        },
        "id": "qHg-_c0u11jO",
        "outputId": "30a7cd63-d407-46b5-cb9c-3856ebb22bb7"
      },
      "outputs": [],
      "source": [
        "fig, (ax1, ax2) = plt.subplots(2)\n",
        "fig.suptitle('Vertically stacked subplots')\n",
        "ax1.plot(x, y)\n",
        "ax2.plot(x+1, -y)\n",
        "\n",
        "# This plot can also be generated using the below code:\n",
        "# fig, axs = plt.subplots(2)\n",
        "# fig.suptitle('Vertically stacked subplots')\n",
        "# axs[0].plot(x, y)\n",
        "# axs[1].plot(x+1, -y)\n",
        "\n",
        "# This plot can also be generated using the below code:\n",
        "# plt.subplot(2, 1, 1)\n",
        "# plt.plot(x, y)\n",
        "# plt.title('Vertically stacked subplots')\n",
        "# plt.subplot(2, 1, 2)\n",
        "# plt.plot(x+1, -y)\n",
        "\n",
        "plt.show()\n",
        "\n",
        "# Note: By default, each Axes is scaled individually. \n",
        "# Thus, if the ranges are different the tick values of the subplots do not align as shown in this figure.\n"
      ]
    },
    {
      "cell_type": "code",
      "execution_count": null,
      "metadata": {
        "colab": {
          "base_uri": "https://localhost:8080/",
          "height": 478
        },
        "id": "s8y6PRYR12LR",
        "outputId": "e646fc6c-2025-477c-8238-338d822fba19"
      },
      "outputs": [],
      "source": [
        "# Setting 'sharex' or 'sharey' to True enables global sharing across the whole grid, \n",
        "# i.e. also the y-axes of vertically stacked subplots have the same scale when using sharey=True.\n",
        "\n",
        "fig, ((ax1, ax2), (ax3, ax4)) = plt.subplots(2, 2, sharex=True, sharey=True) # enables global sharing across the whole grid\n",
        "\n",
        "fig.suptitle('Sharing x per column, y per row')\n",
        "ax1.plot(x, y)\n",
        "ax1.set_title('Blue', fontsize='small', loc='left')\n",
        "ax2.plot(x+1, -y, 'tab:green')\n",
        "ax2.set_title('Green', fontsize='small', loc='left')\n",
        "ax3.plot(x, y**2, 'tab:orange')\n",
        "ax3.set_title('Orange', fontsize='small', loc='left')\n",
        "ax4.plot(x+1, -y**2, 'tab:red')\n",
        "ax4.set_title('Red', fontsize='small', loc='left')\n",
        "\n",
        "for ax in fig.get_axes():\n",
        "    ax.label_outer()\n",
        "plt.show()"
      ]
    },
    {
      "cell_type": "code",
      "execution_count": null,
      "metadata": {
        "colab": {
          "base_uri": "https://localhost:8080/",
          "height": 486
        },
        "id": "RL0pSK_t8YKH",
        "outputId": "00b450b7-93b0-493b-bc53-ff29896c5a47"
      },
      "outputs": [],
      "source": [
        "# defining a plot function to compose multiple plots\n",
        "def example_plot(ax):\n",
        "    ax.plot([3, 4]) # plotting a line from (0,3) to (1,4)\n",
        "    ax.set_xlabel('x-label')\n",
        "    ax.set_ylabel('y-label')\n",
        "    ax.set_title('Title')\n",
        "\n",
        "plt.figure()\n",
        "\n",
        "# defining different subplots\n",
        "ax1 = plt.subplot2grid((3, 3), (0, 0))\n",
        "ax2 = plt.subplot2grid((3, 3), (0, 1), colspan=2) # occupies two column space in the 3x3 area starting from (0,1)\n",
        "ax3 = plt.subplot2grid((3, 3), (1, 0), colspan=2, rowspan=2) # occupies two column space and two row space in the 3x3 area starting from (1,0)\n",
        "ax4 = plt.subplot2grid((3, 3), (1, 2), rowspan=2) # occupies two rown space in the 3x3 area starting from (1,2)\n",
        "\n",
        "# plotting\n",
        "example_plot(ax1)\n",
        "example_plot(ax2)\n",
        "example_plot(ax3)\n",
        "example_plot(ax4)\n",
        "\n",
        "plt.tight_layout() # tight_layout attempts to resize subplots in a figure so that there are no overlaps between axes objects and labels on the axes."
      ]
    },
    {
      "cell_type": "code",
      "execution_count": null,
      "metadata": {
        "colab": {
          "base_uri": "https://localhost:8080/",
          "height": 487
        },
        "id": "EizEBKEB15Rw",
        "outputId": "f548439d-3c6a-45ad-b298-aa96407b888e"
      },
      "outputs": [],
      "source": [
        "# Plots with different scales\n",
        "\n",
        "# Sample data\n",
        "t = np.arange(0.01, 10.0, 0.01)\n",
        "data1 = np.exp(t)\n",
        "data2 = np.sin(2 * np.pi * t)\n",
        "\n",
        "fig, ax1 = plt.subplots()\n",
        "\n",
        "# Plotting data1\n",
        "\n",
        "color = 'tab:red'\n",
        "ax1.set_xlabel('time (s)')\n",
        "ax1.set_ylabel('exp', color=color)\n",
        "ax1.plot(t, data1, color=color)\n",
        "ax1.tick_params(axis='y', labelcolor=color)\n",
        "\n",
        "#Plotting data 2\n",
        "\n",
        "ax2 = ax1.twinx()  # instantiate a second axes that shares the same x-axis\n",
        "\n",
        "color = 'tab:blue'\n",
        "ax2.set_ylabel('sin', color=color)  # we already defined the x-label with ax1\n",
        "ax2.plot(t, data2, color=color)\n",
        "ax2.tick_params(axis='y', labelcolor=color)\n",
        "\n",
        "fig.tight_layout()  # otherwise the right y-label is slightly clipped\n",
        "plt.show()"
      ]
    },
    {
      "cell_type": "code",
      "execution_count": null,
      "metadata": {},
      "outputs": [],
      "source": [
        "# Constrained Layout\n",
        "\n",
        "# An example\n",
        "\n",
        "print(\"\\nAn example of overlapping layout:\")\n",
        "fig, axs = plt.subplots(2, 2, layout=None)\n",
        "for ax in axs.flat:\n",
        "    example_plot(ax)\n",
        "plt.show()\n",
        "\n",
        "# What is the problem with this plot?"
      ]
    },
    {
      "cell_type": "code",
      "execution_count": null,
      "metadata": {
        "colab": {
          "base_uri": "https://localhost:8080/",
          "height": 1000
        },
        "id": "1VroCZ9W5evm",
        "outputId": "978dcf22-c775-4571-ed84-ca227acc934d"
      },
      "outputs": [],
      "source": [
        "# As we can observe that the axis labels or titles (or sometimes even ticklabels) \n",
        "# go outside the figure area or can be overlapping each other.\n",
        "# Specifying layout=\"constrained\" in the call to plt.subplots causes the layout to be properly constrained.\n",
        "\n",
        "print(\"\\nAn example of constrained layout\")\n",
        "fig, axs = plt.subplots(2, 2, layout=\"constrained\")\n",
        "for ax in axs.flat:\n",
        "    example_plot(ax)\n",
        "plt.show()"
      ]
    },
    {
      "cell_type": "markdown",
      "metadata": {
        "id": "LMK01W7aCamh"
      },
      "source": [
        "## Scatter Plot"
      ]
    },
    {
      "cell_type": "code",
      "execution_count": null,
      "metadata": {
        "colab": {
          "base_uri": "https://localhost:8080/"
        },
        "id": "1BK4Qc3P2EbO",
        "outputId": "a9e7155a-e2b2-4d56-a539-95ad1a21f8e1"
      },
      "outputs": [],
      "source": [
        "# Let's create some random data for our scatter plots\n",
        "\n",
        "import random\n",
        "\n",
        "n_samples = 40\n",
        "\n",
        "# random.randint() generates random integer values in the range [0.0, 59.0]\n",
        "x_values = np.asarray([random.randint(0, 59) for _ in range(n_samples)]) \n",
        "print(\"\\n x values: \\n\", x)\n",
        "\n",
        "# random.random() generates random values in the range [0.0, 1.0]\n",
        "y_values = np.asarray([random.random() for _ in range(n_samples)]) \n",
        "print(\"\\n y values: \\n\", y)"
      ]
    },
    {
      "cell_type": "code",
      "execution_count": null,
      "metadata": {
        "colab": {
          "base_uri": "https://localhost:8080/",
          "height": 0
        },
        "id": "br6Yuyy6DuV8",
        "outputId": "32227e83-96ad-4bc2-e5a4-b66832ab1282"
      },
      "outputs": [],
      "source": [
        "# Let's try a simple scatter plot\n",
        "\n",
        "plt.scatter(x=x_values, y=y_values) # Plots a scatter plot\n",
        "\n",
        "plt.title(\"Scatter Plot\")\n",
        "plt.ylabel(\"y values\")\n",
        "plt.xlabel(\"x values\")\n",
        "plt.show()"
      ]
    },
    {
      "cell_type": "code",
      "execution_count": null,
      "metadata": {
        "colab": {
          "base_uri": "https://localhost:8080/",
          "height": 0
        },
        "id": "78TE0ojA433v",
        "outputId": "747fbab6-073a-45e0-fd2b-7ffa03c03e0c"
      },
      "outputs": [],
      "source": [
        "# Scatter plot\n",
        "\n",
        "# Let's assign different colors and sizes for each data point\n",
        "sizes = np.random.uniform(15, 80, len(x_values))\n",
        "colors = np.random.uniform(15, 80, len(x_values))\n",
        "\n",
        "plt.scatter(x_values, y_values, s=sizes, c=colors, vmin=0, vmax=100)\n",
        "\n",
        "plt.title(\"Scatter Plot\")\n",
        "plt.ylabel(\"y values\")\n",
        "plt.xlabel(\"x values\")\n",
        "plt.show()"
      ]
    },
    {
      "cell_type": "code",
      "execution_count": null,
      "metadata": {
        "colab": {
          "base_uri": "https://localhost:8080/",
          "height": 0
        },
        "id": "XIpGA6PBDx79",
        "outputId": "495b7371-e88e-4c1b-a215-bcad2e457461"
      },
      "outputs": [],
      "source": [
        "# Let's add a line plot into  the scatter plot\n",
        "\n",
        "# creating a sample curve for plotting\n",
        "mean = 15, 45\n",
        "sd = 5, 7\n",
        "x = np.linspace(0, 59, 60)\n",
        "\n",
        "first_distribution = np.exp(-0.5 * ((x - mean[0]) / sd[0]) ** 2)\n",
        "second_distribution = 0.9 * np.exp(-0.5 * ((x - mean[1]) / sd[1]) ** 2)\n",
        "\n",
        "y = first_distribution + second_distribution\n",
        "y = y / max(y)\n",
        "\n",
        "plt.plot(x, y) # plot the curve\n",
        "plt.scatter(x=x_values, y=y_values) # plots the scatter plot\n",
        "\n",
        "plt.title(\"Scatter Plot\")\n",
        "plt.ylabel(\"y values\")\n",
        "plt.xlabel(\"x values\")\n",
        "plt.show()"
      ]
    },
    {
      "cell_type": "code",
      "execution_count": null,
      "metadata": {
        "colab": {
          "base_uri": "https://localhost:8080/",
          "height": 0
        },
        "id": "UuJM7k_hD60L",
        "outputId": "3578febf-0b57-4f8e-f3fc-ce817ce45672"
      },
      "outputs": [],
      "source": [
        "# Let's add more cutomizations to the above plot\n",
        "\n",
        "# Let's divide the scatter plot data into two i.e, points lying inside and outside the curve defined earlier.\n",
        "in_region = y_values < y[x_values] # here, y[] will give the curve value corresponding to x input\n",
        "out_region = y_values >= y[x_values] # here, y[] will give the curve value corresponding to x input\n",
        "\n",
        "# Plotting scatter plot as two scatter plots to differentiate the points\n",
        "\n",
        "# For points inside the region\n",
        "plt.scatter(\n",
        "    x=x_values[in_region],\n",
        "    y=y_values[in_region],\n",
        "    color=\"green\",\n",
        ")\n",
        "# For points outside the region\n",
        "plt.scatter(\n",
        "    x=x_values[out_region],\n",
        "    y=y_values[out_region],\n",
        "    color=\"red\",\n",
        "    marker=\"x\",\n",
        ")\n",
        "\n",
        "plt.plot(x, y) # plot the curve\n",
        "\n",
        "plt.title(\"Scatter Plot\")\n",
        "plt.ylabel(\"y values\")\n",
        "plt.xlabel(\"x values\")\n",
        "plt.show()"
      ]
    },
    {
      "cell_type": "markdown",
      "metadata": {
        "id": "arqq33-HCdtq"
      },
      "source": [
        "## Bar Plot"
      ]
    },
    {
      "cell_type": "code",
      "execution_count": null,
      "metadata": {
        "colab": {
          "base_uri": "https://localhost:8080/",
          "height": 0
        },
        "id": "HlNDwU_N45dj",
        "outputId": "9a64a267-7587-41b0-db87-b5728872fb4b"
      },
      "outputs": [],
      "source": [
        "# sample data\n",
        "x = np.arange(10)\n",
        "y = np.random.uniform(1, 15, 10)\n",
        "\n",
        "# simple bar plot\n",
        "plt.bar(x, y)\n",
        "plt.title(\"Bar Plot\")\n",
        "plt.ylabel(\"y values\")\n",
        "plt.xlabel(\"x values\")\n",
        "plt.show()"
      ]
    },
    {
      "cell_type": "code",
      "execution_count": null,
      "metadata": {
        "colab": {
          "base_uri": "https://localhost:8080/",
          "height": 0
        },
        "id": "c21b6A7rQb8R",
        "outputId": "ab13e932-71ec-4838-b21e-32ba99d6adb9"
      },
      "outputs": [],
      "source": [
        "# Horizontal bar plot\n",
        "\n",
        "fig, ax = plt.subplots(figsize =(10, 5)) # Figure Size\n",
        "\n",
        "ax.barh(x, y, color= 'tab:green') # Horizontal Bar Plot\n",
        "\n",
        "# add labels to xticks and yticks\n",
        "ax.set_xticks([1, 2, 3, 4, 5, 6, 7, 8, 9, 10])\n",
        "ax.set_xticklabels(['x=1', 'x=2', 'x=3','x=4', 'x=5', 'x=6','x=7', 'x=8', 'x=9','x=10'])\n",
        "ax.set_yticks([0, 1, 2, 3, 4, 5, 6, 7, 8, 9])\n",
        "ax.set_yticklabels(['2013', '2014', '2015', '2016','2017', '2018', '2019', '2020', '2021', '2022'])\n",
        "\n",
        "ax.set_title('Horizontal bar plot', loc ='left', ) # Add plot title\n",
        "plt.show()"
      ]
    },
    {
      "cell_type": "code",
      "execution_count": null,
      "metadata": {
        "colab": {
          "base_uri": "https://localhost:8080/",
          "height": 0
        },
        "id": "DMZRytyvS4ed",
        "outputId": "80708bf6-7137-4a64-d8cb-95045d46f967"
      },
      "outputs": [],
      "source": [
        "# Let's add some cutomizations to the above bar plot\n",
        "\n",
        "fig, ax = plt.subplots(figsize =(10, 5)) # Figure Size\n",
        "\n",
        "ax.barh(x, y, color= 'tab:green') # Horizontal Bar Plot\n",
        "\n",
        "# Remove axes splines\n",
        "for s in ['top', 'bottom', 'left', 'right']:\n",
        "\tax.spines[s].set_visible(True)\n",
        "\n",
        "# Remove x, y ticks markers\n",
        "ax.xaxis.set_ticks_position('none')\n",
        "ax.yaxis.set_ticks_position('none')\n",
        "\n",
        "# add labels to xticks and yticks\n",
        "ax.set_xticks([1, 2, 3, 4, 5, 6, 7, 8, 9, 10])\n",
        "ax.set_xticklabels(['x=1', 'x=2', 'x=3','x=4', 'x=5', 'x=6','x=7', 'x=8', 'x=9','x=10'], rotation=55)\n",
        "ax.set_yticks([0, 1, 2, 3, 4, 5, 6, 7, 8, 9])\n",
        "ax.set_yticklabels(['2013', '2014', '2015', '2016','2017', '2018', '2019', '2020', '2021', '2022'])\n",
        "\n",
        "# Add padding between axes and labels\n",
        "ax.xaxis.set_tick_params(pad = 5)\n",
        "ax.yaxis.set_tick_params(pad = 10)\n",
        "\n",
        "# Add x, y gridlines\n",
        "ax.grid(visible = True, color ='grey',\n",
        "\t\tlinestyle ='-.', linewidth = 0.5,\n",
        "\t\talpha = 0.5)\n",
        "\n",
        "# Add annotation to bars\n",
        "for i in ax.patches:\n",
        "\tplt.text(i.get_width()+0.2, i.get_y()+0.5,\n",
        "\t\t\tstr(round((i.get_width()), 2)),\n",
        "\t\t\tfontsize = 10, fontweight ='bold',\n",
        "\t\t\tcolor ='grey')\n",
        "\n",
        "ax.invert_yaxis() # Show top values\n",
        "\n",
        "ax.set_title('Horizontal bar plot', loc ='left', fontsize =15) # Add plot title\n",
        "plt.show()"
      ]
    },
    {
      "cell_type": "code",
      "execution_count": null,
      "metadata": {
        "colab": {
          "base_uri": "https://localhost:8080/",
          "height": 0
        },
        "id": "SnDJFGiuQiud",
        "outputId": "bf06500b-9e23-4fc3-bbdf-809c5c579663"
      },
      "outputs": [],
      "source": [
        "# Multiple bar plots\n",
        "\n",
        "barWidth = 0.25 # set bar width\n",
        "\n",
        "fig = plt.subplots(figsize =(10, 7))\n",
        "\n",
        "# sample data\n",
        "IT = [15, 30, 7, 8, 22]\n",
        "ECE = [28, 6, 16, 7, 10]\n",
        "CSE = [29, 10, 24, 25, 17]\n",
        "\n",
        "# Set position of bar on X axis\n",
        "bar1 = np.arange(len(IT))\n",
        "bar2 = [x + barWidth for x in bar1]\n",
        "bar3 = [x + barWidth for x in bar2]\n",
        "\n",
        "# Make the plot\n",
        "plt.bar(bar1, IT, color ='tab:green', width = barWidth, alpha=0.8, hatch='++', edgecolor ='black', label ='IT')\n",
        "plt.bar(bar2, ECE, color ='tab:red', width = barWidth, alpha=0.8, hatch='..', edgecolor ='black', label ='ECE')\n",
        "plt.bar(bar3, CSE, color ='tab:blue', width = barWidth, alpha=0.8, hatch='\\\\\\\\',edgecolor ='black', label ='CSE')\n",
        "\n",
        "plt.xlabel('Branch', fontweight ='bold', fontsize = 15)\n",
        "plt.ylabel('Students passed', fontweight ='bold', fontsize = 15)\n",
        "\n",
        "plt.xticks([r + barWidth for r in range(len(IT))], ['2015', '2016', '2017', '2018', '2019']) # setting xticks position and labels\n",
        "\n",
        "plt.legend(bbox_to_anchor=(0.5, 1.09), loc='upper center', ncol=3, fontsize=15)\n",
        "plt.show()"
      ]
    },
    {
      "cell_type": "code",
      "execution_count": null,
      "metadata": {
        "colab": {
          "base_uri": "https://localhost:8080/",
          "height": 0
        },
        "id": "4zLRXgIRQhcq",
        "outputId": "fb9d1abe-1e9e-432c-df4d-d3eca26e92e2"
      },
      "outputs": [],
      "source": [
        "# stacked bar plot\n",
        "\n",
        "# Sample data for stack plot\n",
        "N = 5\n",
        "A = [20, 35, 30, 35, 27]\n",
        "B = [25, 32, 34, 20, 25]\n",
        "\n",
        "# let's plot standard deviation aslo on the stack plot\n",
        "A_std = [2, 3, 4, 1.5, 2]\n",
        "B_std = [3, 5, 2, 3, 3]\n",
        "\n",
        "ind = np.arange(N)\n",
        "barWidth = 0.35\n",
        "\n",
        "fig = plt.subplots(figsize =(7, 5))\n",
        "plot1 = plt.bar(ind, A, barWidth, yerr = A_std, capsize=5)\n",
        "plot2 = plt.bar(ind, B, barWidth, bottom = A, yerr = B_std, capsize=5)\n",
        "\n",
        "plt.xlabel('Year')\n",
        "plt.ylabel('Contribution')\n",
        "plt.title('Example of stack plot with standard deviation')\n",
        "plt.xticks(ind, ['2018', '2019', '2020', '2021', '2022'])\n",
        "plt.yticks(np.arange(0, 81, 10))\n",
        "\n",
        "plt.legend((plot1[0], plot2[0]), ('Team A', 'Team B'))\n",
        "plt.show()"
      ]
    },
    {
      "cell_type": "markdown",
      "metadata": {
        "id": "DFPog5yvz1y_"
      },
      "source": [
        "## Stack plot"
      ]
    },
    {
      "cell_type": "code",
      "execution_count": null,
      "metadata": {
        "colab": {
          "base_uri": "https://localhost:8080/",
          "height": 0
        },
        "id": "80OdR7R4z4FU",
        "outputId": "d97a9652-cdd2-4d4c-c54b-28d3909768e8"
      },
      "outputs": [],
      "source": [
        "# Stack plot\n",
        "\n",
        "# Sample data\n",
        "\n",
        "days = [x for x in range(0, 7)]\n",
        "# List of suspected, cured, death cases over the week days\n",
        "Suspected = [12, 18, 35, 50, 72, 90, 100]\n",
        "Cured = [4, 8, 15, 22, 41, 55, 62]\n",
        "Deaths = [1, 3, 5, 7, 9, 11, 13]\n",
        "\n",
        "# Implementing stackplot on data\n",
        "plt.stackplot(days, Suspected, Cured, Deaths, baseline ='zero', colors =['blue', 'orange', 'brown'])\n",
        "# Explore another baseline values other than 'zero', for example 'wiggle', 'sym', ‘weighted_wiggle’\n",
        "# Q: What does these different baselines represent?\n",
        "\n",
        "plt.title('No of Cases')\n",
        "plt.xlabel('Day of the week')\n",
        "plt.ylabel('Overall cases')\n",
        "\n",
        "# To create labels for the data\n",
        "plt.plot([], [], color ='blue', label ='Suspected')\n",
        "plt.plot([], [], color ='orange', label ='Cured')\n",
        "plt.plot([], [], color ='brown', label ='Deaths')\n",
        "plt.legend(bbox_to_anchor=(0.45, 1), loc='upper center', ncol=3, fontsize=11)\n",
        "\n",
        "plt.show()"
      ]
    },
    {
      "cell_type": "code",
      "execution_count": null,
      "metadata": {
        "id": "aAc8mVIe49np"
      },
      "outputs": [],
      "source": [
        "# Q: What is Stem Plot, Step Plot, Fill_between ?"
      ]
    },
    {
      "cell_type": "markdown",
      "metadata": {
        "id": "yCkFCg5-uM_L"
      },
      "source": [
        "## Heatmaps\n",
        "A heatmap is a data visualization technique that uses color to represent the values in a matrix or a 2D dataset. The color intensity in each cell of the heatmap corresponds to the value of the corresponding data point, making it easy to see patterns and trends within the data. Heatmaps are especially useful for visualizing large datasets where individual data points are hard to distinguish."
      ]
    },
    {
      "cell_type": "code",
      "execution_count": null,
      "metadata": {
        "colab": {
          "base_uri": "https://localhost:8080/",
          "height": 0
        },
        "id": "3P2bCC6yAU9A",
        "outputId": "1d3e77e4-5ad9-4e17-9726-25869b999360"
      },
      "outputs": [],
      "source": [
        "# Heatmaps\n",
        "\n",
        "# Heatmap sample data\n",
        "vegetables = [\"cucumber\", \"tomato\", \"lettuce\", \"asparagus\",\n",
        "              \"potato\", \"wheat\", \"barley\"]\n",
        "farmers = [\"Farmer Joe\", \"Upland Bros.\", \"Smith Gardening\",\n",
        "           \"Agrifun\", \"Organiculture\", \"BioGoods Ltd.\", \"Cornylee Corp.\"]\n",
        "harvest = np.array([[0.8, 2.4, 2.5, 3.9, 0.0, 4.0, 0.0],\n",
        "                    [2.4, 0.0, 4.0, 1.0, 2.7, 0.0, 0.0],\n",
        "                    [1.1, 2.4, 0.8, 4.3, 1.9, 4.4, 0.0],\n",
        "                    [0.6, 0.0, 0.3, 0.0, 3.1, 0.0, 0.0],\n",
        "                    [0.7, 1.7, 0.6, 2.6, 2.2, 6.2, 0.0],\n",
        "                    [1.3, 1.2, 0.0, 0.0, 0.0, 3.2, 5.1],\n",
        "                    [0.1, 2.0, 0.0, 1.4, 0.0, 1.9, 6.3]])\n",
        "\n",
        "\n",
        "# Plotting heat map\n",
        "\n",
        "fig, ax = plt.subplots()\n",
        "\n",
        "im = ax.imshow(harvest) # heatmap\n",
        "\n",
        "# Show all ticks and label them with the respective list entries\n",
        "ax.set_xticks(np.arange(len(farmers)), labels=farmers)\n",
        "ax.set_yticks(np.arange(len(vegetables)), labels=vegetables)\n",
        "\n",
        "# Rotate the tick labels and set their alignment.\n",
        "plt.setp(ax.get_xticklabels(), rotation=45, ha=\"right\", rotation_mode=\"anchor\")\n",
        "\n",
        "fig.colorbar(im) # Add colorbar\n",
        "\n",
        "ax.set_title(\"Harvest of local farmers (in tons/year)\")\n",
        "plt.show()"
      ]
    },
    {
      "cell_type": "code",
      "execution_count": null,
      "metadata": {
        "colab": {
          "base_uri": "https://localhost:8080/",
          "height": 0
        },
        "id": "fVn7wpxtxDZb",
        "outputId": "137d8939-7c7b-4255-e9c5-25e3694c3e11"
      },
      "outputs": [],
      "source": [
        "# more heatmap customizations\n",
        "\n",
        "fig, ax = plt.subplots()\n",
        "\n",
        "im = ax.imshow(harvest ,cmap=\"YlGn\") # heatmap with differnt color map. Explore different color maps.\n",
        "\n",
        "# Show all ticks and label them with the respective list entries\n",
        "ax.set_xticks(np.arange(len(farmers)), labels=farmers)\n",
        "ax.set_yticks(np.arange(len(vegetables)), labels=vegetables)\n",
        "\n",
        "# Rotate the tick labels and set their alignment.\n",
        "plt.setp(ax.get_xticklabels(), rotation=45, ha=\"right\", rotation_mode=\"anchor\")\n",
        "\n",
        "# For annotations on heatmap - loop over data dimensions and create text annotations.\n",
        "for i in range(len(vegetables)):\n",
        "    for j in range(len(farmers)):\n",
        "        text = ax.text(j, i, harvest[i, j], ha=\"center\", va=\"center\", color=\"black\")\n",
        "\n",
        "fig.colorbar(im) # Add colorbar\n",
        "\n",
        "ax.set_title(\"Harvest of local farmers (in tons/year)\")\n",
        "fig.tight_layout() # automatically adjusts the subplot such that it fits into the figure including the labels, etc\n",
        "plt.show()"
      ]
    },
    {
      "cell_type": "markdown",
      "metadata": {
        "id": "PHqarvT-uQ52"
      },
      "source": [
        "## Contours\n",
        "A contour plot is a graphical representation of a 3D surface, where contour lines are used to show points of equal value. These contour lines are typically drawn on a 2D plane and represent the intersection of the 3D surface with planes parallel to the base plane at different heights. \n",
        "\n",
        "Contour plots are especially useful for visualizing functions with two variables or for representing the topography of a surface."
      ]
    },
    {
      "cell_type": "code",
      "execution_count": null,
      "metadata": {
        "id": "SkLVEIOnOlHp"
      },
      "outputs": [],
      "source": [
        "# We'll start by demonstrating a contour plot using a function z = f(x,y)\n",
        "# The x and y values represent positions on the plot, and the z values will be represented by the contour levels. # Sample data\n",
        "\n",
        "# Let's define a sample function for contour data\n",
        "def f(x, y):\n",
        "    return np.sin(x) ** 10 + np.cos(10 + y * x) * np.cos(x)\n",
        "\n",
        "x = np.linspace(0, 5, 50)\n",
        "y = np.linspace(0, 5, 40)\n",
        "\n",
        "# np.meshgrid function creates a rectangular grid (2D) out of two given one-dimensional arrays representing the Cartesian indexing or Matrix indexing\n",
        "X, Y = np.meshgrid(x, y)\n",
        "\n",
        "Z = f(X, Y)"
      ]
    },
    {
      "cell_type": "code",
      "execution_count": null,
      "metadata": {
        "colab": {
          "base_uri": "https://localhost:8080/",
          "height": 0
        },
        "id": "NGOpJiki3vFC",
        "outputId": "bac5f385-243e-44dc-db51-9505e0967d81"
      },
      "outputs": [],
      "source": [
        "plt.contour(X, Y, Z, colors='black');\n",
        "# By default when a single color is used, negative values are represented by dashed lines, and positive values by solid lines"
      ]
    },
    {
      "cell_type": "code",
      "execution_count": null,
      "metadata": {
        "colab": {
          "base_uri": "https://localhost:8080/",
          "height": 0
        },
        "id": "6WC6cyWl3yuJ",
        "outputId": "e9ba4ac3-f4cd-4483-beeb-fac566a0e139"
      },
      "outputs": [],
      "source": [
        "plt.contour(X, Y, Z, 20, cmap='RdGy');\n",
        "# the lines can also be color-coded by specifying a colormap with the cmap argument.\n",
        "# 'RdGy' represents Red-Gray colormap\n",
        "# Here, we'll also specify that we want more lines to be drawn—20 equally spaced intervals within the data range."
      ]
    },
    {
      "cell_type": "code",
      "execution_count": null,
      "metadata": {
        "colab": {
          "base_uri": "https://localhost:8080/",
          "height": 0
        },
        "id": "da3kVQuR35GK",
        "outputId": "0b2a3a19-ca7c-4e43-a8e6-12aca24564a7"
      },
      "outputs": [],
      "source": [
        "# the spaces between the lines can be avoided by switching to a filled contour plot using the plt.contourf()\n",
        "plt.contourf(X, Y, Z, 20, cmap='RdGy')\n",
        "plt.colorbar();"
      ]
    },
    {
      "cell_type": "code",
      "execution_count": null,
      "metadata": {
        "colab": {
          "base_uri": "https://localhost:8080/",
          "height": 0
        },
        "id": "aG6HfWd135mb",
        "outputId": "06e2ee27-15ee-4321-b214-76d053fd2bd0"
      },
      "outputs": [],
      "source": [
        "# The color steps in the above contour plots are discrete rather than continuous.\n",
        "# So to obtain continous color we will use imshow() which interprets a two-dimensional grid of data as an image.\n",
        "\n",
        "# creating contor plots using imshow()\n",
        "plt.imshow(Z, extent=[0, 5, 0, 5], origin='lower', cmap='viridis') # 'viridis' is a different colormap. Explore more colormaps!\n",
        "plt.colorbar()\n",
        "\n",
        "# Note:\n",
        "# imshow() doesn't accept an x and y grid, so you must manually specify the extent [xmin, xmax, ymin, ymax] of the image on the plot\n",
        "# imshow() interprets a two-dimensional grid of data as an image."
      ]
    },
    {
      "cell_type": "code",
      "execution_count": null,
      "metadata": {
        "colab": {
          "base_uri": "https://localhost:8080/",
          "height": 0
        },
        "id": "EJ6tDq1k39ny",
        "outputId": "79be74ef-77f2-4580-b0e7-f15c47650bb8"
      },
      "outputs": [],
      "source": [
        "# Can we combine combine contour plots and image plot ?\n",
        "\n",
        "# First, lets plot a simple black and white contour with labels on the contour themselves\n",
        "contours = plt.contour(X, Y, Z, 3, colors='black')\n",
        "plt.clabel(contours, inline=True, fontsize=8)\n",
        "\n",
        "# Then, we'll use a partially transparent background image (with transparency set via the alpha parameter)\n",
        "plt.imshow(Z, extent=[0, 5, 0, 5], origin='lower', cmap='viridis', alpha=0.5)\n",
        "plt.colorbar();"
      ]
    },
    {
      "cell_type": "markdown",
      "metadata": {
        "id": "zpZkN3EkNih9"
      },
      "source": [
        "## Annotations and Text"
      ]
    },
    {
      "cell_type": "code",
      "execution_count": null,
      "metadata": {
        "colab": {
          "base_uri": "https://localhost:8080/",
          "height": 561
        },
        "id": "Zr8pw60nCvCp",
        "outputId": "ac2c90ef-e2f7-4f27-9b01-4a9bd9075d11"
      },
      "outputs": [],
      "source": [
        "# Different text and annotations\n",
        "\n",
        "fig = plt.figure()\n",
        "ax = fig.add_subplot() # adds subplot to the figure\n",
        "\n",
        "\n",
        "# Set titles for the figure and the subplot respectively\n",
        "fig.suptitle('bold figure suptitle', fontsize=14, fontweight='bold') # figure title\n",
        "ax.set_title('axes title') # axes title\n",
        "\n",
        "\n",
        "ax.set_xlabel('xlabel', fontsize='large', fontweight='bold') # here, we modify the label font size and weight\n",
        "ax.set_ylabel('ylabel: '+ r'$\\int\\ Y^2\\ dt\\ \\ [V^2 s]$', labelpad=18) # labelpad adds to padding to the label; this example also shows how to insert formula into the labels\n",
        "\n",
        "\n",
        "# Set both x- and y-axis limits to [0, 10] instead of default [0, 1]\n",
        "ax.axis([0, 10, 0, 10])\n",
        "\n",
        "# here we add x axis label and modify the default position of the xticks\n",
        "\n",
        "# setting dates as x-axis labels\n",
        "import datetime\n",
        "import matplotlib.dates as mdates\n",
        "\n",
        "base = datetime.date(2017, 1, 1)\n",
        "time_labels = [base + datetime.timedelta(days=x) for x in range(14)]\n",
        "\n",
        "ax.set_xticks(np.arange(0., 10.0, 0.75)) # ticks will be positioned between 0 and 10.0 with a spacing of 0.75\n",
        "ax.set_xticklabels(labels = time_labels, rotation = 55) # rotating the x axis labels\n",
        "\n",
        "\n",
        "# Let's try different text variations\n",
        "\n",
        "ax.text(3, 8, 'boxed italics text with text starting at (3,8)', style='italic', bbox={'facecolor': 'tab:blue', 'alpha': 0.5, 'pad': 10})\n",
        "ax.text(2, 6, r'writing equation: $E=mc^2$', fontsize=15, color='red')\n",
        "ax.text(0.95, 0.01, 'colored text in axes coords', verticalalignment='bottom', horizontalalignment='right', transform=ax.transAxes, color='green', fontsize=15)\n",
        "ax.text(1, 8, \"Direction\", ha=\"center\", va=\"center\", rotation=45, size=12, bbox=dict(boxstyle=\"rarrow, pad=0.2\", fc=\"lightblue\", ec=\"steelblue\", lw=2)) # annotating with boxed text\n",
        "\n",
        "# Let's annotate a single point\n",
        "\n",
        "ax.plot([2], [2.5], 'o', color='orange', markersize=15) # plot a point\n",
        "ax.annotate('annotate', xy=(2, 2.5), xytext=(3, 4.5), arrowprops=dict(facecolor='black', shrink=0.05), fontweight='bold', color = \"purple\") # annotate the above point\n",
        "\n",
        "\n",
        "# Another example for annotation\n",
        "\n",
        "ax.plot([6], [2], 's', color='cyan', markersize=15) # plot a point at (6,2)\n",
        "# setting parameters for annotation\n",
        "offset = 72\n",
        "bbox = dict(facecolor = 'pink', boxstyle =\"round\")\n",
        "# customizing the arrow\n",
        "arrowprops = dict(\n",
        "    arrowstyle = \"->\",\n",
        "    connectionstyle = \"angle, angleA = 0, angleB = 90,\\\n",
        "    rad = 10\")\n",
        "# annotaing the point\n",
        "ax.annotate('data = (%.1f, %.1f)'%(6, 2),\n",
        "            (6, 2), xytext =(0.5* offset,0.75* offset),\n",
        "            textcoords ='offset points',\n",
        "            bbox = bbox, arrowprops = arrowprops)\n",
        "\n",
        "plt.show()\n",
        "\n",
        "# For more details on text and annotations, refer to https://matplotlib.org/stable/tutorials/text/index.html"
      ]
    },
    {
      "cell_type": "markdown",
      "metadata": {
        "id": "57XfWyxtMGYG"
      },
      "source": [
        "## Statistical Plots"
      ]
    },
    {
      "cell_type": "code",
      "execution_count": null,
      "metadata": {
        "id": "DOGcDAXgjP1B"
      },
      "outputs": [],
      "source": [
        "# Box plots\n",
        "\n",
        "# Random test data\n",
        "np.random.seed(19680801)\n",
        "all_data = [np.random.normal(0, std, size=100) for std in range(1, 4)]\n",
        "labels = ['x1', 'x2', 'x3']\n",
        "\n",
        "fig, (ax1, ax2) = plt.subplots(nrows=1, ncols=2, figsize=(9, 4))\n",
        "\n",
        "# rectangular box plot\n",
        "bplot1 = ax1.boxplot(all_data,\n",
        "                     vert=True,  # vertical box alignment\n",
        "                     patch_artist=True,  # fill with color\n",
        "                     labels=labels)  # will be used to label x-ticks\n",
        "ax1.set_title('Rectangular box plot')\n",
        "\n",
        "# notch shape box plot\n",
        "bplot2 = ax2.boxplot(all_data,\n",
        "                     notch=True,  # notch shape\n",
        "                     vert=True,  # vertical box alignment\n",
        "                     patch_artist=True,  # fill with color\n",
        "                     labels=labels)  # will be used to label x-ticks\n",
        "ax2.set_title('Notched box plot')\n",
        "\n",
        "# fill with colors\n",
        "colors = ['pink', 'lightblue', 'lightgreen']\n",
        "for bplot in (bplot1, bplot2):\n",
        "    for patch, color in zip(bplot['boxes'], colors):\n",
        "        patch.set_facecolor(color)\n",
        "\n",
        "# adding horizontal grid lines\n",
        "for ax in [ax1, ax2]:\n",
        "    ax.yaxis.grid(True)\n",
        "    ax.set_xlabel('Three separate samples')\n",
        "    ax.set_ylabel('Observed values')\n",
        "\n",
        "plt.show()"
      ]
    },
    {
      "cell_type": "code",
      "execution_count": null,
      "metadata": {
        "id": "12uXJufw7dYH"
      },
      "outputs": [],
      "source": [
        "# Box plot v/s Violin plot\n",
        "\n",
        "fig, axs = plt.subplots(nrows=1, ncols=2, figsize=(9, 4))\n",
        "\n",
        "# Fixing random state for reproducibility\n",
        "np.random.seed(19680801)\n",
        "\n",
        "# generate some random test data\n",
        "all_data = [np.random.normal(0, std, 100) for std in range(6, 10)]\n",
        "\n",
        "# plot violin plot\n",
        "axs[0].violinplot(all_data,\n",
        "                  showmeans=False,\n",
        "                  showmedians=True)\n",
        "axs[0].set_title('Violin plot')\n",
        "\n",
        "# plot box plot\n",
        "axs[1].boxplot(all_data)\n",
        "axs[1].set_title('Box plot')\n",
        "\n",
        "# adding horizontal grid lines\n",
        "for ax in axs:\n",
        "    ax.yaxis.grid(True)\n",
        "    ax.set_xticks([y + 1 for y in range(len(all_data))],\n",
        "                  labels=['x1', 'x2', 'x3', 'x4'])\n",
        "    ax.set_xlabel('Four separate samples')\n",
        "    ax.set_ylabel('Observed values')\n",
        "\n",
        "plt.show()"
      ]
    },
    {
      "cell_type": "code",
      "execution_count": null,
      "metadata": {
        "colab": {
          "base_uri": "https://localhost:8080/",
          "height": 487
        },
        "id": "698tnkIG7pw2",
        "outputId": "a84a3864-7267-4515-bdcb-79628d9bdbd8"
      },
      "outputs": [],
      "source": [
        "# Histogram\n",
        "\n",
        "from matplotlib.ticker import PercentFormatter\n",
        "from matplotlib import colors\n",
        "\n",
        "rng = np.random.default_rng(19680801)\n",
        "\n",
        "fig, axs = plt.subplots(1, 2, tight_layout=True)\n",
        "\n",
        "N_points = 100000\n",
        "n_bins = 20\n",
        "\n",
        "# Generate two normal distributions\n",
        "dist1 = rng.standard_normal(N_points)\n",
        "dist2 = 0.4 * rng.standard_normal(N_points) + 5\n",
        "\n",
        "# N is the count in each bin, bins is the lower-limit of the bin\n",
        "N, bins, patches = axs[0].hist(dist1, bins=n_bins)\n",
        "\n",
        "# We'll color code by height, but you could use any scalar\n",
        "fracs = N / N.max()\n",
        "\n",
        "# we need to normalize the data to 0..1 for the full range of the colormap\n",
        "norm = colors.Normalize(fracs.min(), fracs.max())\n",
        "\n",
        "# Now, we'll loop through our objects and set the color of each accordingly\n",
        "for thisfrac, thispatch in zip(fracs, patches):\n",
        "    color = plt.cm.viridis(norm(thisfrac))\n",
        "    thispatch.set_facecolor(color)\n",
        "\n",
        "# We can also normalize our inputs by the total number of counts\n",
        "axs[1].hist(dist1, bins=n_bins, density=True)\n",
        "\n",
        "# Now we format the y-axis to display percentage\n",
        "axs[1].yaxis.set_major_formatter(PercentFormatter(xmax=1))"
      ]
    },
    {
      "cell_type": "code",
      "execution_count": null,
      "metadata": {
        "colab": {
          "base_uri": "https://localhost:8080/",
          "height": 486
        },
        "id": "zlO3rKpM8uE-",
        "outputId": "4560ef3e-4541-4fb8-a784-fbbc987100ce"
      },
      "outputs": [],
      "source": [
        "# Histogram with different 'histtype'\n",
        "\n",
        "np.random.seed(19680801)\n",
        "\n",
        "mu_x = 200\n",
        "sigma_x = 25\n",
        "x = np.random.normal(mu_x, sigma_x, size=100)\n",
        "\n",
        "mu_w = 200\n",
        "sigma_w = 10\n",
        "w = np.random.normal(mu_w, sigma_w, size=100)\n",
        "\n",
        "fig, axs = plt.subplots(nrows=2, ncols=2)\n",
        "\n",
        "axs[0, 0].hist(x, 20, density=True, histtype='stepfilled', facecolor='g',\n",
        "               alpha=0.75)\n",
        "axs[0, 0].set_title('stepfilled')\n",
        "\n",
        "axs[0, 1].hist(x, 20, density=True, histtype='step', facecolor='g',\n",
        "               alpha=0.75)\n",
        "axs[0, 1].set_title('step')\n",
        "\n",
        "axs[1, 0].hist(x, density=True, histtype='barstacked', rwidth=0.8)\n",
        "axs[1, 0].hist(w, density=True, histtype='barstacked', rwidth=0.8)\n",
        "axs[1, 0].set_title('barstacked')\n",
        "\n",
        "# Create a histogram by providing the bin edges (unequally spaced).\n",
        "bins = [100, 150, 180, 195, 205, 220, 250, 300]\n",
        "axs[1, 1].hist(x, bins, density=True, histtype='bar', rwidth=0.8)\n",
        "axs[1, 1].set_title('bar, unequal bins')\n",
        "\n",
        "fig.tight_layout()\n",
        "plt.show()"
      ]
    },
    {
      "cell_type": "code",
      "execution_count": null,
      "metadata": {
        "colab": {
          "base_uri": "https://localhost:8080/",
          "height": 486
        },
        "id": "CmHNWvOh8Nlv",
        "outputId": "4076a100-d5a3-4621-bd5e-03bdab62ecad"
      },
      "outputs": [],
      "source": [
        "# Histogram with multiple datasets\n",
        "\n",
        "np.random.seed(19680801)\n",
        "\n",
        "n_bins = 10\n",
        "x = np.random.randn(1000, 3)\n",
        "\n",
        "fig, ((ax0, ax1), (ax2, ax3)) = plt.subplots(nrows=2, ncols=2)\n",
        "\n",
        "colors = ['red', 'tan', 'lime']\n",
        "ax0.hist(x, n_bins, density=True, histtype='bar', color=colors, label=colors)\n",
        "ax0.legend(prop={'size': 10})\n",
        "ax0.set_title('bars with legend')\n",
        "\n",
        "ax1.hist(x, n_bins, density=True, histtype='bar', stacked=True)\n",
        "ax1.set_title('stacked bar')\n",
        "\n",
        "ax2.hist(x, n_bins, histtype='step', stacked=True, fill=False)\n",
        "ax2.set_title('stack step (unfilled)')\n",
        "\n",
        "# Make a multiple-histogram of data-sets with different length.\n",
        "x_multi = [np.random.randn(n) for n in [10000, 5000, 2000]]\n",
        "ax3.hist(x_multi, n_bins, histtype='bar')\n",
        "ax3.set_title('different sample sizes')\n",
        "\n",
        "fig.tight_layout()\n",
        "plt.show()"
      ]
    },
    {
      "cell_type": "markdown",
      "metadata": {
        "id": "pOoomd7L9tKR"
      },
      "source": [
        "## 3D Plotting"
      ]
    },
    {
      "cell_type": "code",
      "execution_count": null,
      "metadata": {
        "colab": {
          "base_uri": "https://localhost:8080/",
          "height": 416
        },
        "id": "VfoOqFYP_NT0",
        "outputId": "246957f1-9312-4f3f-b9f7-66330ed0db76"
      },
      "outputs": [],
      "source": [
        "# Fixing random seed for reproducibility\n",
        "np.random.seed(19680801)\n",
        "\n",
        "\n",
        "def randrange(n, vmin, vmax):\n",
        "    \"\"\"\n",
        "    Helper function to make an array of random numbers having shape (n, )\n",
        "    with each number distributed Uniform(vmin, vmax).\n",
        "    \"\"\"\n",
        "    return (vmax - vmin)*np.random.rand(n) + vmin\n",
        "\n",
        "fig = plt.figure()\n",
        "ax = fig.add_subplot(projection='3d')\n",
        "\n",
        "n = 100\n",
        "\n",
        "# For each set of style and range settings, plot n random points in the box\n",
        "# defined by x in [23, 32], y in [0, 100], z in [zlow, zhigh].\n",
        "for m, zlow, zhigh in [('o', -50, -25), ('^', -30, -5)]:\n",
        "    xs = randrange(n, 23, 32)\n",
        "    ys = randrange(n, 0, 100)\n",
        "    zs = randrange(n, zlow, zhigh)\n",
        "    ax.scatter(xs, ys, zs, marker=m)\n",
        "\n",
        "ax.set_xlabel('X Label')\n",
        "ax.set_ylabel('Y Label')\n",
        "ax.set_zlabel('Z Label')\n",
        "\n",
        "plt.show()"
      ]
    },
    {
      "cell_type": "code",
      "execution_count": null,
      "metadata": {
        "colab": {
          "base_uri": "https://localhost:8080/",
          "height": 310
        },
        "id": "DikeJ8Hm-GM6",
        "outputId": "461bbaf2-eb6d-426c-b960-3f7ceea77c1e"
      },
      "outputs": [],
      "source": [
        "# 3D bar charts\n",
        "\n",
        "# set up the figure and axes\n",
        "fig = plt.figure(figsize=(8, 3))\n",
        "ax1 = fig.add_subplot(121, projection='3d')\n",
        "ax2 = fig.add_subplot(122, projection='3d')\n",
        "\n",
        "# fake data\n",
        "_x = np.arange(4)\n",
        "_y = np.arange(5)\n",
        "_xx, _yy = np.meshgrid(_x, _y)\n",
        "x, y = _xx.ravel(), _yy.ravel()\n",
        "\n",
        "top = x + y\n",
        "bottom = np.zeros_like(top)\n",
        "width = depth = 1\n",
        "\n",
        "ax1.bar3d(x, y, bottom, width, depth, top, shade=True)\n",
        "ax1.set_title('Shaded')\n",
        "\n",
        "ax2.bar3d(x, y, bottom, width, depth, top, shade=False)\n",
        "ax2.set_title('Not Shaded')\n",
        "\n",
        "plt.show()"
      ]
    },
    {
      "cell_type": "code",
      "execution_count": null,
      "metadata": {
        "colab": {
          "base_uri": "https://localhost:8080/",
          "height": 417
        },
        "id": "c-VKJrr9-Gza",
        "outputId": "45713666-6b4a-4c94-f967-54a6eeb99a70"
      },
      "outputs": [],
      "source": [
        "#2D bar graphs in different planes\n",
        "\n",
        "# Fixing random state for reproducibility\n",
        "np.random.seed(19680801)\n",
        "\n",
        "\n",
        "fig = plt.figure()\n",
        "ax = fig.add_subplot(projection='3d')\n",
        "\n",
        "colors = ['r', 'g', 'b', 'y']\n",
        "yticks = [3, 2, 1, 0]\n",
        "for c, k in zip(colors, yticks):\n",
        "    # Generate the random data for the y=k 'layer'.\n",
        "    xs = np.arange(20)\n",
        "    ys = np.random.rand(20)\n",
        "\n",
        "    # You can provide either a single color or an array with the same length as\n",
        "    # xs and ys. To demonstrate this, we color the first bar of each set cyan.\n",
        "    cs = [c] * len(xs)\n",
        "    cs[0] = 'c'\n",
        "\n",
        "    # Plot the bar graph given by xs and ys on the plane y=k with 80% opacity.\n",
        "    ax.bar(xs, ys, zs=k, zdir='y', color=cs, alpha=0.8)\n",
        "\n",
        "ax.set_xlabel('X')\n",
        "ax.set_ylabel('Y')\n",
        "ax.set_zlabel('Z')\n",
        "\n",
        "# On the y-axis let's only label the discrete values that we have data for.\n",
        "ax.set_yticks(yticks)\n",
        "\n",
        "plt.show()"
      ]
    },
    {
      "cell_type": "code",
      "execution_count": null,
      "metadata": {
        "colab": {
          "base_uri": "https://localhost:8080/",
          "height": 418
        },
        "id": "EVsC3r25-dzx",
        "outputId": "3bd2862f-1152-4028-bbff-592d306f0c2a"
      },
      "outputs": [],
      "source": [
        "# Contours\n",
        "\n",
        "from mpl_toolkits.mplot3d import axes3d\n",
        "import matplotlib.pyplot as plt\n",
        "\n",
        "ax = plt.figure().add_subplot(projection='3d')\n",
        "X, Y, Z = axes3d.get_test_data(0.05)\n",
        "\n",
        "# Plot the 3D surface\n",
        "ax.plot_surface(X, Y, Z, edgecolor='royalblue', lw=0.5, rstride=8, cstride=8,\n",
        "                alpha=0.3)\n",
        "\n",
        "# Plot projections of the contours for each dimension.  By choosing offsets\n",
        "# that match the appropriate axes limits, the projected contours will sit on\n",
        "# the 'walls' of the graph.\n",
        "ax.contour(X, Y, Z, zdir='z', offset=-100, cmap='coolwarm')\n",
        "ax.contourf(X, Y, Z, zdir='x', offset=-40, cmap='coolwarm')\n",
        "ax.contour(X, Y, Z, zdir='y', offset=40, cmap='coolwarm')\n",
        "\n",
        "ax.set(xlim=(-40, 40), ylim=(-40, 40), zlim=(-100, 100),\n",
        "       xlabel='X', ylabel='Y', zlabel='Z')\n",
        "\n",
        "plt.show()"
      ]
    },
    {
      "cell_type": "code",
      "execution_count": null,
      "metadata": {
        "colab": {
          "base_uri": "https://localhost:8080/",
          "height": 387
        },
        "id": "GHZi0PZS_I1o",
        "outputId": "9a6ef21a-1e42-4380-bd09-8a86591e2dd3"
      },
      "outputs": [],
      "source": [
        "# 3D Subplots\n",
        "\n",
        "from matplotlib import cm\n",
        "from mpl_toolkits.mplot3d.axes3d import get_test_data\n",
        "\n",
        "\n",
        "# set up a figure twice as wide as it is tall\n",
        "fig = plt.figure(figsize=plt.figaspect(0.5))\n",
        "\n",
        "# =============\n",
        "# First subplot\n",
        "# =============\n",
        "# set up the axes for the first plot\n",
        "ax = fig.add_subplot(1, 2, 1, projection='3d')\n",
        "\n",
        "# plot a 3D surface like in the example mplot3d/surface3d_demo\n",
        "X = np.arange(-5, 5, 0.25)\n",
        "Y = np.arange(-5, 5, 0.25)\n",
        "X, Y = np.meshgrid(X, Y)\n",
        "R = np.sqrt(X**2 + Y**2)\n",
        "Z = np.sin(R)\n",
        "surf = ax.plot_surface(X, Y, Z, rstride=1, cstride=1, cmap=cm.coolwarm,\n",
        "                       linewidth=0, antialiased=False)\n",
        "ax.set_zlim(-1.01, 1.01)\n",
        "fig.colorbar(surf, shrink=0.5, aspect=10)\n",
        "\n",
        "# ==============\n",
        "# Second subplot\n",
        "# ==============\n",
        "# set up the axes for the second plot\n",
        "ax = fig.add_subplot(1, 2, 2, projection='3d')\n",
        "\n",
        "# plot a 3D wireframe like in the example mplot3d/wire3d_demo\n",
        "X, Y, Z = get_test_data(0.05)\n",
        "ax.plot_wireframe(X, Y, Z, rstride=10, cstride=10)\n",
        "\n",
        "plt.show()"
      ]
    },
    {
      "cell_type": "code",
      "execution_count": null,
      "metadata": {
        "colab": {
          "base_uri": "https://localhost:8080/",
          "height": 406
        },
        "id": "w53kOWFZ-x4S",
        "outputId": "03fc9ad5-21a1-4dcf-adb0-49e5385183be"
      },
      "outputs": [],
      "source": [
        "# Hillshading\n",
        "\n",
        "from matplotlib import cbook\n",
        "from matplotlib import cm\n",
        "from matplotlib.colors import LightSource\n",
        "\n",
        "# Load and format data\n",
        "dem = cbook.get_sample_data('jacksboro_fault_dem.npz', np_load=True)\n",
        "z = dem['elevation']\n",
        "nrows, ncols = z.shape\n",
        "x = np.linspace(dem['xmin'], dem['xmax'], ncols)\n",
        "y = np.linspace(dem['ymin'], dem['ymax'], nrows)\n",
        "x, y = np.meshgrid(x, y)\n",
        "\n",
        "region = np.s_[5:50, 5:50]\n",
        "x, y, z = x[region], y[region], z[region]\n",
        "\n",
        "# Set up plot\n",
        "fig, ax = plt.subplots(subplot_kw=dict(projection='3d'))\n",
        "\n",
        "ls = LightSource(270, 45)\n",
        "# To use a custom hillshading mode, override the built-in shading and pass\n",
        "# in the rgb colors of the shaded surface calculated from \"shade\".\n",
        "rgb = ls.shade(z, cmap=cm.gist_earth, vert_exag=0.1, blend_mode='soft')\n",
        "surf = ax.plot_surface(x, y, z, rstride=1, cstride=1, facecolors=rgb,\n",
        "                       linewidth=0, antialiased=False, shade=False)\n",
        "\n",
        "plt.show()"
      ]
    },
    {
      "cell_type": "markdown",
      "metadata": {
        "id": "fUtPgMABNyEY"
      },
      "source": [
        "## Saving and Exporting"
      ]
    },
    {
      "cell_type": "code",
      "execution_count": null,
      "metadata": {
        "colab": {
          "base_uri": "https://localhost:8080/",
          "height": 430
        },
        "id": "f6WNwqjfAgaO",
        "outputId": "7f157dae-5247-46fc-fbfa-9c18f5a80cd6"
      },
      "outputs": [],
      "source": [
        "# Saving figures\n",
        "\n",
        "# creating data and plotting a histogram\n",
        "x =[1, 4, 9, 16, 25, 36, 49, 64, 81, 100]\n",
        "plt.hist(x)\n",
        "\n",
        "# saving the figure.\n",
        "plt.savefig(\"squares1.png\",\n",
        "\t\t\tbbox_inches =\"tight\",\n",
        "\t\t\tpad_inches = 1,\n",
        "\t\t\ttransparent = True,\n",
        "\t\t\tfacecolor =\"g\",\n",
        "\t\t\tedgecolor ='w',\n",
        "\t\t\torientation ='landscape')\n",
        "\n",
        "plt.show()"
      ]
    },
    {
      "cell_type": "code",
      "execution_count": null,
      "metadata": {},
      "outputs": [],
      "source": [
        "# That's all in this unit!\n",
        "# With this, you have good idea about the features of matplotlib\n",
        "# and reusable code to get most of your visualization done\n",
        "# Let's start using these features of matplotlib\n",
        "\n",
        "# As you can imagine, there is much more to learn in matplotlib.\n",
        "# You can check out the documentation at https://matplotlib.org\n",
        "# And start with the tutorials at https://matplotlib.org/stable/tutorials/index.html"
      ]
    }
  ],
  "metadata": {
    "colab": {
      "collapsed_sections": [
        "2-JJ2n3Q2W9q",
        "LMK01W7aCamh",
        "arqq33-HCdtq",
        "DFPog5yvz1y_",
        "yCkFCg5-uM_L",
        "PHqarvT-uQ52",
        "l_CJeNnLNsFz"
      ],
      "provenance": []
    },
    "kernelspec": {
      "display_name": "Python 3",
      "name": "python3"
    },
    "language_info": {
      "codemirror_mode": {
        "name": "ipython",
        "version": 3
      },
      "file_extension": ".py",
      "mimetype": "text/x-python",
      "name": "python",
      "nbconvert_exporter": "python",
      "pygments_lexer": "ipython3",
      "version": "3.11.4"
    }
  },
  "nbformat": 4,
  "nbformat_minor": 0
}
