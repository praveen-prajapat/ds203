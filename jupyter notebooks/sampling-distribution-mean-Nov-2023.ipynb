{
 "cells": [
  {
   "cell_type": "code",
   "execution_count": null,
   "metadata": {},
   "outputs": [],
   "source": [
    "import numpy as np\n",
    "import matplotlib.pyplot as plt\n",
    "import scipy.stats as sp\n",
    "import statistics"
   ]
  },
  {
   "cell_type": "code",
   "execution_count": null,
   "metadata": {},
   "outputs": [],
   "source": [
    "# Set the seed for random number generation\n",
    "# And create a population of some size\n",
    "\n",
    "pop_size = 1000000\n",
    "#np.random.seed(25)\n",
    "\n",
    "pop = np.random.uniform(-5,5,pop_size)\n",
    "#pop = np.random.normal(0, 5, pop_size)\n",
    "#pop = np.random.poisson(5,pop_size)\n",
    "#pop = np.random.binomial(7,0.7,pop_size)\n",
    "#pop = np.random.triangular(1,3,5,pop_size)"
   ]
  },
  {
   "cell_type": "code",
   "execution_count": null,
   "metadata": {},
   "outputs": [],
   "source": [
    "plt.hist(pop)\n",
    "plt.show()"
   ]
  },
  {
   "cell_type": "code",
   "execution_count": null,
   "metadata": {},
   "outputs": [],
   "source": [
    "# Find out the mean and standard deviation of the population\n",
    "pop_mean = np.mean(pop) # mu\n",
    "pop_sd = np.std(pop)    # lambda\n",
    "print(pop_mean)\n",
    "print(pop_sd)"
   ]
  },
  {
   "cell_type": "code",
   "execution_count": null,
   "metadata": {},
   "outputs": [],
   "source": [
    "# From the population randomly select multiple samples of a given size\n",
    "# For every sample, calculate the mean and remember it\n",
    "# Finally calculate the mean of means, and the SD of the means\n",
    "\n",
    "sample_size = 10 # s1, s2, s3, s4 ...\n",
    "nof_samples = 1000\n",
    "sample_means = [] # m1, m2, m3, ...\n",
    "sample_sd    = [] \n",
    "\n",
    "for i in range(nof_samples):\n",
    "    a_sample = np.random.choice(pop, sample_size)\n",
    "    sample_means.append(np.mean(a_sample))\n",
    "    sample_sd.append(np.std(a_sample))\n",
    "    "
   ]
  },
  {
   "cell_type": "code",
   "execution_count": null,
   "metadata": {},
   "outputs": [],
   "source": [
    "# Now create the histograms\n",
    "# Histogram of the population\n",
    "plt.hist(pop, bins=50)\n",
    "plt.show()"
   ]
  },
  {
   "cell_type": "code",
   "execution_count": null,
   "metadata": {},
   "outputs": [],
   "source": [
    "# Histogram of the mean of the samples ... ie. histogram of m1, m2, m3, m4\n",
    "plt.hist(sample_means, bins=50)\n",
    "plt.xlim(-4,4)\n",
    "plt.show()"
   ]
  },
  {
   "cell_type": "code",
   "execution_count": null,
   "metadata": {},
   "outputs": [],
   "source": [
    "# All the samples have been created. Now find their mean\n",
    "mean_of_means = np.mean(sample_means) # this should be close to 'mu' ... mean of the population\n",
    "sd_of_means = np.std(sample_means)    # S_x_bar ... this should be close to 'sigma / sqrt(n)'\n",
    "\n",
    "print(\"Population Mean: %f\"%(pop_mean))\n",
    "print(\"Mean of Sampling Distribution: %f\"%(mean_of_means))\n",
    "print()\n",
    "print(\"SD of Population: %f\"%(pop_sd))\n",
    "print(\"SD of Population/sqrt(sample_size): %f / sqrt(%d): %f\"%(pop_sd,sample_size, pop_sd / np.sqrt(sample_size)))\n",
    "print(\"SD of Sampling Distribution: %f\"%(sd_of_means))"
   ]
  },
  {
   "cell_type": "code",
   "execution_count": null,
   "metadata": {},
   "outputs": [],
   "source": [
    "#import spcipy.stats as sp\n",
    "sp.chi2.ppf(0.975,99)"
   ]
  },
  {
   "cell_type": "code",
   "execution_count": null,
   "metadata": {},
   "outputs": [],
   "source": [
    "sp.chi2.ppf(0.025,99)"
   ]
  },
  {
   "cell_type": "code",
   "execution_count": null,
   "metadata": {},
   "outputs": [],
   "source": []
  }
 ],
 "metadata": {
  "kernelspec": {
   "display_name": "Python 3 (ipykernel)",
   "language": "python",
   "name": "python3"
  },
  "language_info": {
   "codemirror_mode": {
    "name": "ipython",
    "version": 3
   },
   "file_extension": ".py",
   "mimetype": "text/x-python",
   "name": "python",
   "nbconvert_exporter": "python",
   "pygments_lexer": "ipython3",
   "version": "3.9.16"
  }
 },
 "nbformat": 4,
 "nbformat_minor": 2
}
